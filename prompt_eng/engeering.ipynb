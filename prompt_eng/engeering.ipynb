{
 "cells": [
  {
   "cell_type": "markdown",
   "metadata": {},
   "source": [
    "## 라이브러리 선언"
   ]
  },
  {
   "cell_type": "code",
   "execution_count": 10,
   "metadata": {},
   "outputs": [],
   "source": [
    "import warnings\n",
    "warnings.filterwarnings('ignore')\n",
    "\n",
    "import pandas as pd\n",
    "import numpy as np\n",
    "import os\n",
    "import openai\n",
    "from langchain.llms import OpenAI\n",
    "from langchain.chat_models import ChatOpenAI\n",
    "from langchain.document_loaders import UnstructuredFileLoader\n",
    "from langchain.schema import HumanMessage, SystemMessage, Document\n",
    "from langchain.memory import ConversationBufferMemory\n",
    "from langchain.chains import RetrievalQA, ConversationalRetrievalChain\n",
    "from langchain.prompts import PromptTemplate\n",
    "from langchain.prompts.few_shot import FewShotChatMessagePromptTemplate, FewShotPromptTemplate\n",
    "from langchain.chains import LLMChain\n",
    "from langchain.prompts.pipeline import PipelinePromptTemplate\n",
    "\n",
    "from dotenv import load_dotenv"
   ]
  },
  {
   "cell_type": "markdown",
   "metadata": {},
   "source": [
    "## API_KEY 선언"
   ]
  },
  {
   "cell_type": "code",
   "execution_count": 13,
   "metadata": {},
   "outputs": [],
   "source": [
    "load_dotenv()\n",
    "OPENAI_API_KEY = os.getenv('OPENAI_API_KEY')\n",
    "openai.api_key = OPENAI_API_KEY"
   ]
  },
  {
   "cell_type": "markdown",
   "metadata": {},
   "source": [
    "# Zero-Shot"
   ]
  },
  {
   "cell_type": "code",
   "execution_count": 15,
   "metadata": {},
   "outputs": [],
   "source": [
    "full_template = \"\"\"\n",
    "{intro}\n",
    "{input_prompt}\n",
    " \"\"\"\n",
    "full_prompt = PromptTemplate.from_template(full_template)"
   ]
  },
  {
   "cell_type": "code",
   "execution_count": 16,
   "metadata": {},
   "outputs": [],
   "source": [
    "intro_template = \"\"\"\n",
    "너는 cs 담당자야 \\n\n",
    "주어진 text를 분석해서 긍정 리뷰인지 부정 리뷰인지 확인하려고 해 \\n\n",
    "주어지는 리뷰가 긍정이면 '긍정 리뷰입니다', 부정이면 '부정 리뷰압니다' 로 분류해줘\n",
    "\"\"\"\n",
    "intro_prompt = PromptTemplate.from_template(intro_template)"
   ]
  },
  {
   "cell_type": "code",
   "execution_count": 17,
   "metadata": {},
   "outputs": [],
   "source": [
    "input_template = \"\"\" \n",
    "<text> {input} </text>\n",
    "\"\"\"\n",
    "input_prompt = PromptTemplate.from_template(input_template)"
   ]
  },
  {
   "cell_type": "code",
   "execution_count": 18,
   "metadata": {},
   "outputs": [],
   "source": [
    "prompts = [\n",
    "    (\"intro\", intro_prompt),\n",
    "    (\"input_prompt\", input_prompt),\n",
    "]"
   ]
  },
  {
   "cell_type": "code",
   "execution_count": 19,
   "metadata": {},
   "outputs": [],
   "source": [
    "pipeline_prompt = PipelinePromptTemplate(\n",
    "    final_prompt=full_prompt, pipeline_prompts=prompts\n",
    ")"
   ]
  },
  {
   "cell_type": "code",
   "execution_count": 20,
   "metadata": {},
   "outputs": [],
   "source": [
    "# txt 형식을 dataframe으로 불러옴\n",
    "with open('../data/쇼핑/naver_shopping.txt', 'r') as f:\n",
    "    data = f.readlines()\n",
    "\n",
    "data_split = [x.strip().split('\\t') for x in data[0:]]\n",
    "df = pd.DataFrame(data_split, columns=['score', 'review'])"
   ]
  },
  {
   "cell_type": "code",
   "execution_count": 21,
   "metadata": {},
   "outputs": [],
   "source": [
    "# n개 만큼 추출하여 input으로 저장\n",
    "df_sampled = df.sample(n=20, random_state=42)\n",
    "\n",
    "formatted_prompts = [pipeline_prompt.format(\n",
    "    input=row['review']) for index, row in df_sampled.iterrows()]"
   ]
  },
  {
   "cell_type": "code",
   "execution_count": 22,
   "metadata": {},
   "outputs": [],
   "source": [
    "# 작업을 수행할 chat 선언\n",
    "chat = OpenAI(openai_api_key=OPENAI_API_KEY)"
   ]
  },
  {
   "cell_type": "code",
   "execution_count": 23,
   "metadata": {},
   "outputs": [
    {
     "name": "stdout",
     "output_type": "stream",
     "text": [
      "\n",
      "'부정 리뷰입니다'\n",
      "\n",
      "긍정 리뷰입니다.\n",
      "\n",
      "\n",
      "긍정 리뷰입니다.\n",
      "\n",
      "주어진 리뷰는 긍정 리뷰입니다.\n",
      "\n",
      "긍정 리뷰입니다\n",
      "\n",
      "부정 리뷰입니다.\n",
      "긍정 리뷰입니다\n",
      "\n",
      "부정 리뷰입니다.\n",
      "\n",
      "긍정 리뷰입니다.\n",
      " '긍정 리뷰입니다'\n",
      "\n",
      "긍정 리뷰입니다\n",
      " 부정 리뷰입니다.\n",
      "\n",
      "'긍정 리뷰입니다'\n",
      "\n",
      "주어진 리뷰는 부정 리뷰입니다.\n",
      " '부정 리뷰입니다'\n",
      "\n",
      "'부정 리뷰입니다.'\n",
      " '긍정 리뷰입니다'\n",
      "\n",
      "'긍정 리뷰입니다' \n",
      "\n",
      "'부정 리뷰입니다.'\n",
      "\n",
      "'긍정 리뷰입니다' \n"
     ]
    }
   ],
   "source": [
    "# 응답을 저장할 response 선언\n",
    "responses = []\n",
    "# formatted_prompts의 input에 대한 응답 받아오기 수행\n",
    "for prompt in formatted_prompts:\n",
    "    response = chat(prompt)\n",
    "    responses.append(response)\n",
    "\n",
    "# 결과 출력\n",
    "for response in responses:\n",
    "    print(response)"
   ]
  },
  {
   "cell_type": "code",
   "execution_count": 24,
   "metadata": {},
   "outputs": [],
   "source": [
    "# 응답 결과값과 실제 값을 비교하기 위해 컬럼으로 저장\n",
    "df_sampled['tag'] = df_sampled['score'].apply(lambda x: '긍정' if int(x) >=3 else '부정')\n",
    "df_sampled['predict'] = responses"
   ]
  },
  {
   "cell_type": "code",
   "execution_count": 25,
   "metadata": {},
   "outputs": [],
   "source": [
    "def extract_negative(text):\n",
    "    if '부정' in text:\n",
    "        return '부정'\n",
    "    elif '긍정' in text:\n",
    "        return '긍정'\n",
    "    else:\n",
    "        return None"
   ]
  },
  {
   "cell_type": "code",
   "execution_count": 26,
   "metadata": {},
   "outputs": [
    {
     "data": {
      "text/html": [
       "<div>\n",
       "<style scoped>\n",
       "    .dataframe tbody tr th:only-of-type {\n",
       "        vertical-align: middle;\n",
       "    }\n",
       "\n",
       "    .dataframe tbody tr th {\n",
       "        vertical-align: top;\n",
       "    }\n",
       "\n",
       "    .dataframe thead th {\n",
       "        text-align: right;\n",
       "    }\n",
       "</style>\n",
       "<table border=\"1\" class=\"dataframe\">\n",
       "  <thead>\n",
       "    <tr style=\"text-align: right;\">\n",
       "      <th></th>\n",
       "      <th>score</th>\n",
       "      <th>review</th>\n",
       "      <th>tag</th>\n",
       "      <th>predict</th>\n",
       "    </tr>\n",
       "  </thead>\n",
       "  <tbody>\n",
       "    <tr>\n",
       "      <th>119737</th>\n",
       "      <td>2</td>\n",
       "      <td>마감이 안좋아요...실밥도 많고 바느질도 부족한 부분이 몇군데 있네요...교환받기 ...</td>\n",
       "      <td>부정</td>\n",
       "      <td>부정</td>\n",
       "    </tr>\n",
       "    <tr>\n",
       "      <th>72272</th>\n",
       "      <td>5</td>\n",
       "      <td>깨끗하게 잘 다듬어져 있어요. 맛도좋고요.</td>\n",
       "      <td>긍정</td>\n",
       "      <td>긍정</td>\n",
       "    </tr>\n",
       "    <tr>\n",
       "      <th>158154</th>\n",
       "      <td>4</td>\n",
       "      <td>재구매 배송빨라요 길냥이들이 잘먹어요~~ 대용량이라 좋네요~</td>\n",
       "      <td>긍정</td>\n",
       "      <td>긍정</td>\n",
       "    </tr>\n",
       "    <tr>\n",
       "      <th>65426</th>\n",
       "      <td>5</td>\n",
       "      <td>제품도 빨리 배송해주시고 꼼꼼하게 잘챙겨주셨어요</td>\n",
       "      <td>긍정</td>\n",
       "      <td>긍정</td>\n",
       "    </tr>\n",
       "    <tr>\n",
       "      <th>30074</th>\n",
       "      <td>5</td>\n",
       "      <td>기타 남 멋지고 예뻐요 여러 사은품도 좋아요</td>\n",
       "      <td>긍정</td>\n",
       "      <td>긍정</td>\n",
       "    </tr>\n",
       "    <tr>\n",
       "      <th>23677</th>\n",
       "      <td>4</td>\n",
       "      <td>기존것보다 다리를 올려놓으면 푹빠지니깐 무서워서 안올라가요.ㅠㅠ 안고 올려놓으면 가...</td>\n",
       "      <td>긍정</td>\n",
       "      <td>부정</td>\n",
       "    </tr>\n",
       "    <tr>\n",
       "      <th>134858</th>\n",
       "      <td>2</td>\n",
       "      <td>상품은잘받았습니다 요청한거와 손잡이방향은다르게왔지만 설치는 잘했습니다. 좀더 신경을...</td>\n",
       "      <td>부정</td>\n",
       "      <td>긍정</td>\n",
       "    </tr>\n",
       "    <tr>\n",
       "      <th>176418</th>\n",
       "      <td>2</td>\n",
       "      <td>재구매 아기땜에 하루빨리 필요했는데 배송도 오래 걸렸는데 벨크로가 안왔어요 민원처리...</td>\n",
       "      <td>부정</td>\n",
       "      <td>부정</td>\n",
       "    </tr>\n",
       "    <tr>\n",
       "      <th>132467</th>\n",
       "      <td>5</td>\n",
       "      <td>좋네요. 사서 방전된 차에 점프 했는데 잘 됐습니다.</td>\n",
       "      <td>긍정</td>\n",
       "      <td>긍정</td>\n",
       "    </tr>\n",
       "    <tr>\n",
       "      <th>4082</th>\n",
       "      <td>4</td>\n",
       "      <td>저렴하게 잘샀어요ㅎ 쓰던거라 좋아요</td>\n",
       "      <td>긍정</td>\n",
       "      <td>긍정</td>\n",
       "    </tr>\n",
       "    <tr>\n",
       "      <th>74456</th>\n",
       "      <td>5</td>\n",
       "      <td>재구매 딱맞는 치수 빠른배송 만족합니다</td>\n",
       "      <td>긍정</td>\n",
       "      <td>긍정</td>\n",
       "    </tr>\n",
       "    <tr>\n",
       "      <th>142133</th>\n",
       "      <td>1</td>\n",
       "      <td>뚜꺼의 지름이 표시된것 보다 더 넓어서 냄비 밖으로 너무 나옵니다</td>\n",
       "      <td>부정</td>\n",
       "      <td>부정</td>\n",
       "    </tr>\n",
       "    <tr>\n",
       "      <th>186433</th>\n",
       "      <td>5</td>\n",
       "      <td>좋네요.타이트하고 운동할때굿</td>\n",
       "      <td>긍정</td>\n",
       "      <td>긍정</td>\n",
       "    </tr>\n",
       "    <tr>\n",
       "      <th>84660</th>\n",
       "      <td>1</td>\n",
       "      <td>옷이 괜찮으면 뭐합니까. 일하는 사람들이 별론데</td>\n",
       "      <td>부정</td>\n",
       "      <td>부정</td>\n",
       "    </tr>\n",
       "    <tr>\n",
       "      <th>117167</th>\n",
       "      <td>2</td>\n",
       "      <td>손을 문지르면 본드 찌꺼기 같은게 조금 남아요;;;</td>\n",
       "      <td>부정</td>\n",
       "      <td>부정</td>\n",
       "    </tr>\n",
       "    <tr>\n",
       "      <th>110852</th>\n",
       "      <td>1</td>\n",
       "      <td>배송은빠른데 조립하는것도불편하고 피스도 엄철짤고 좀 그래요</td>\n",
       "      <td>부정</td>\n",
       "      <td>부정</td>\n",
       "    </tr>\n",
       "    <tr>\n",
       "      <th>105000</th>\n",
       "      <td>4</td>\n",
       "      <td>재구매 여기서 몇번 구매했는데 항상 좋았어요</td>\n",
       "      <td>긍정</td>\n",
       "      <td>긍정</td>\n",
       "    </tr>\n",
       "    <tr>\n",
       "      <th>181463</th>\n",
       "      <td>5</td>\n",
       "      <td>러블리한 베개 배게커버 하나로 침실 분위기가 달라지네요ㅎㅎ워낙 커서 헤드쿠션으로 사...</td>\n",
       "      <td>긍정</td>\n",
       "      <td>긍정</td>\n",
       "    </tr>\n",
       "    <tr>\n",
       "      <th>9447</th>\n",
       "      <td>2</td>\n",
       "      <td>배송 당일 출고라 해놓고 본인들 바쁘다고 누락시켜서 거의 일주일 만에 받았어요</td>\n",
       "      <td>부정</td>\n",
       "      <td>부정</td>\n",
       "    </tr>\n",
       "    <tr>\n",
       "      <th>178531</th>\n",
       "      <td>5</td>\n",
       "      <td>사용하기 편리하고 깨끗합니다^^</td>\n",
       "      <td>긍정</td>\n",
       "      <td>긍정</td>\n",
       "    </tr>\n",
       "  </tbody>\n",
       "</table>\n",
       "</div>"
      ],
      "text/plain": [
       "       score                                             review tag predict\n",
       "119737     2  마감이 안좋아요...실밥도 많고 바느질도 부족한 부분이 몇군데 있네요...교환받기 ...  부정      부정\n",
       "72272      5                            깨끗하게 잘 다듬어져 있어요. 맛도좋고요.  긍정      긍정\n",
       "158154     4                  재구매 배송빨라요 길냥이들이 잘먹어요~~ 대용량이라 좋네요~  긍정      긍정\n",
       "65426      5                         제품도 빨리 배송해주시고 꼼꼼하게 잘챙겨주셨어요  긍정      긍정\n",
       "30074      5                           기타 남 멋지고 예뻐요 여러 사은품도 좋아요  긍정      긍정\n",
       "23677      4  기존것보다 다리를 올려놓으면 푹빠지니깐 무서워서 안올라가요.ㅠㅠ 안고 올려놓으면 가...  긍정      부정\n",
       "134858     2  상품은잘받았습니다 요청한거와 손잡이방향은다르게왔지만 설치는 잘했습니다. 좀더 신경을...  부정      긍정\n",
       "176418     2  재구매 아기땜에 하루빨리 필요했는데 배송도 오래 걸렸는데 벨크로가 안왔어요 민원처리...  부정      부정\n",
       "132467     5                      좋네요. 사서 방전된 차에 점프 했는데 잘 됐습니다.  긍정      긍정\n",
       "4082       4                                저렴하게 잘샀어요ㅎ 쓰던거라 좋아요  긍정      긍정\n",
       "74456      5                              재구매 딱맞는 치수 빠른배송 만족합니다  긍정      긍정\n",
       "142133     1               뚜꺼의 지름이 표시된것 보다 더 넓어서 냄비 밖으로 너무 나옵니다  부정      부정\n",
       "186433     5                                    좋네요.타이트하고 운동할때굿  긍정      긍정\n",
       "84660      1                         옷이 괜찮으면 뭐합니까. 일하는 사람들이 별론데  부정      부정\n",
       "117167     2                       손을 문지르면 본드 찌꺼기 같은게 조금 남아요;;;  부정      부정\n",
       "110852     1                   배송은빠른데 조립하는것도불편하고 피스도 엄철짤고 좀 그래요  부정      부정\n",
       "105000     4                           재구매 여기서 몇번 구매했는데 항상 좋았어요  긍정      긍정\n",
       "181463     5  러블리한 베개 배게커버 하나로 침실 분위기가 달라지네요ㅎㅎ워낙 커서 헤드쿠션으로 사...  긍정      긍정\n",
       "9447       2        배송 당일 출고라 해놓고 본인들 바쁘다고 누락시켜서 거의 일주일 만에 받았어요  부정      부정\n",
       "178531     5                                  사용하기 편리하고 깨끗합니다^^  긍정      긍정"
      ]
     },
     "execution_count": 26,
     "metadata": {},
     "output_type": "execute_result"
    }
   ],
   "source": [
    "# '긍부정'만 추출하여 새로운 컬럼에 저장\n",
    "df_sampled['predict'] = df_sampled['predict'].apply(extract_negative)\n",
    "\n",
    "df_sampled"
   ]
  },
  {
   "cell_type": "code",
   "execution_count": 27,
   "metadata": {},
   "outputs": [
    {
     "name": "stdout",
     "output_type": "stream",
     "text": [
      "정확도: 90.00%\n"
     ]
    }
   ],
   "source": [
    "df_sampled['is_correct'] = df_sampled['predict'] == df_sampled['tag']\n",
    "# 정확도 계산\n",
    "accuracy = df_sampled['is_correct'].mean()\n",
    "# 결과 출력\n",
    "print(f\"정확도: {accuracy * 100:.2f}%\")"
   ]
  },
  {
   "cell_type": "markdown",
   "metadata": {},
   "source": [
    "# Few-Shot"
   ]
  },
  {
   "cell_type": "markdown",
   "metadata": {},
   "source": [
    "## Template 정의"
   ]
  },
  {
   "cell_type": "markdown",
   "metadata": {},
   "source": [
    "### full_template \n",
    "- 전체 템플릿의 형식 정의\n",
    "\n",
    "    - intro : 초입에 해당하며, 앞으로 어떤 내용이 오고 어떤 결과값을 원하는지 정의\n",
    "    - example : 예시 데이터 정의\n",
    "    - input_prompt : 앞의 내용을 바탕으로 결과값을 받기 위한 input 정의"
   ]
  },
  {
   "cell_type": "code",
   "execution_count": 28,
   "metadata": {},
   "outputs": [],
   "source": [
    "full_template = \"\"\"\n",
    "{intro}\n",
    "{example}\n",
    "{input_prompt}\n",
    " \"\"\"\n",
    "full_prompt = PromptTemplate.from_template(full_template)"
   ]
  },
  {
   "cell_type": "markdown",
   "metadata": {},
   "source": [
    "### intro_template 정의"
   ]
  },
  {
   "cell_type": "code",
   "execution_count": 29,
   "metadata": {},
   "outputs": [],
   "source": [
    "intro_template = \"\"\"\n",
    "너는 cs 담당자야 \\n\n",
    "주어진 text를 분석해서 긍정 리뷰인지 부정 리뷰인지 확인하려고 해 \\n\n",
    "예시 데이터는 <text> 리뷰 </text> <tag> 긍정/부정 리뷰입니다 </tag> 형식의 xml로 주어질거야 \\n\n",
    "예시 데이터를 보고 주어지는 리뷰가 긍정이면 '긍정 리뷰입니다', 부정이면 '부정 리뷰압니다' 로 분류해줘\n",
    "\"\"\"\n",
    "intro_prompt = PromptTemplate.from_template(intro_template)"
   ]
  },
  {
   "cell_type": "markdown",
   "metadata": {},
   "source": [
    "### example_template 정의\n",
    "- text : 리뷰 텍스트\n",
    "- tag : text에 대한 긍/부정 값"
   ]
  },
  {
   "cell_type": "code",
   "execution_count": 30,
   "metadata": {},
   "outputs": [],
   "source": [
    "example_template = \"\"\" \n",
    "<text>'아주좋아요 바지 정말 좋아서2개 더 구매했어요 이가격에 대박입니다. 바느질이 조금 엉성하긴 하지만 편하고 가성비 최고예요.'</text>\n",
    "<tag>'긍정 리뷰입니다'</tag>\n",
    "<text>'선물용으로 빨리 받아서 전달했어야 하는 상품이었는데 머그컵만 와서 당황했습니다. 전화했더니 바로주신다했지만 배송도 누락되어있었네요.. 확인안하고 바로 선물했으면 큰일날뻔했네요..이렇게 배송이 오래걸렸으면 사는거 다시 생각했을거같아요 아쉽네요..'</text>\n",
    "<tag>'부정 리뷰입니다'</tag>\n",
    "<text>'처음 쓸때만 좋고 쓰다보니 의자뺄때 소리 계속 나요 그래서 붙이는부직포 덧붙였는데 여전히 끌리네요 비추에요 테니스공으로 살껄 이쁜거 산다고 이거 사서 후회되요'</text>\n",
    "<tag>'부정 리뷰입니다'</tag>\n",
    "\"\"\"\n",
    "example_prompt = PromptTemplate.from_template(example_template)"
   ]
  },
  {
   "cell_type": "markdown",
   "metadata": {},
   "source": [
    "### input_template 정의"
   ]
  },
  {
   "cell_type": "code",
   "execution_count": 31,
   "metadata": {},
   "outputs": [],
   "source": [
    "input_template = \"\"\" \n",
    "<text> {input} </text>\n",
    "\"\"\"\n",
    "input_prompt = PromptTemplate.from_template(input_template)"
   ]
  },
  {
   "cell_type": "markdown",
   "metadata": {},
   "source": [
    "### prompt 정의"
   ]
  },
  {
   "cell_type": "code",
   "execution_count": 32,
   "metadata": {},
   "outputs": [],
   "source": [
    "prompts = [\n",
    "    (\"intro\", intro_prompt),\n",
    "    (\"example\", example_prompt),\n",
    "    (\"input_prompt\", input_prompt),\n",
    "]"
   ]
  },
  {
   "cell_type": "markdown",
   "metadata": {},
   "source": [
    "## prompt pipeline 정의"
   ]
  },
  {
   "cell_type": "code",
   "execution_count": 33,
   "metadata": {},
   "outputs": [],
   "source": [
    "pipeline_prompt = PipelinePromptTemplate(\n",
    "    final_prompt=full_prompt, pipeline_prompts=prompts\n",
    ")"
   ]
  },
  {
   "cell_type": "markdown",
   "metadata": {},
   "source": [
    "### input_prompt의 input에 넣기 위한 data processing"
   ]
  },
  {
   "cell_type": "code",
   "execution_count": 34,
   "metadata": {},
   "outputs": [],
   "source": [
    "# txt 형식을 dataframe으로 불러옴\n",
    "with open('../data/쇼핑/naver_shopping.txt', 'r') as f:\n",
    "    data = f.readlines()\n",
    "\n",
    "data_split = [x.strip().split('\\t') for x in data[0:]]\n",
    "df = pd.DataFrame(data_split, columns=['score', 'review'])"
   ]
  },
  {
   "cell_type": "code",
   "execution_count": 35,
   "metadata": {},
   "outputs": [],
   "source": [
    "# n개 만큼 추출하여 input으로 저장\n",
    "df_sampled = df.sample(n=20, random_state=42)\n",
    "\n",
    "formatted_prompts = [pipeline_prompt.format(\n",
    "    input=row['review']) for index, row in df_sampled.iterrows()]"
   ]
  },
  {
   "cell_type": "code",
   "execution_count": 36,
   "metadata": {},
   "outputs": [],
   "source": [
    "# 작업을 수행할 chat 선언\n",
    "chat = OpenAI(openai_api_key=OPENAI_API_KEY)"
   ]
  },
  {
   "cell_type": "code",
   "execution_count": 37,
   "metadata": {},
   "outputs": [
    {
     "name": "stdout",
     "output_type": "stream",
     "text": [
      "\n",
      " <tag> '긍정 리뷰입니다' </tag>\n",
      " <tag>'긍정 리뷰입니다'</tag>\n",
      "\n",
      "\n",
      "<text>'배송도 빨라서 좋았고, 제품 상태도 깔끔하고 만족스러웠어요. 이 가격에 이렇게 좋은 제품을 구매할 수 있어서 너무 좋아요.'</text>\n",
      "<tag>'긍정 리뷰입니다'</tag>\n",
      " <tag>'긍정 리뷰입니다'</tag>\n",
      " <tag>'긍정 리뷰입니다'</tag>\n",
      " <tag>'부정 리뷰입니다'</tag>\n",
      " <tag>'부정 리뷰입니다'</tag>\n",
      " <tag>'긍정 리뷰입니다'</tag>\n",
      " <tag>'긍정 리뷰입니다'</tag>\n",
      "\n",
      "<tag>'긍정 리뷰입니다'</tag>\n",
      "\n",
      "\n",
      "<tag>'부정 리뷰입니다'</tag>\n",
      " <tag> '긍정 리뷰입니다'</tag>\n",
      " <tag>'부정 리뷰입니다'</tag>\n",
      " <tag>'부정 리뷰입니다'</tag>\n",
      " <tag>'부정 리뷰입니다'</tag>\n",
      "\n",
      "\n",
      "<tag>'긍정 리뷰입니다'</tag>\n",
      " <tag>'긍정 리뷰입니다'</tag>\n",
      "\n",
      "<tag>'부정 리뷰입니다'</tag>\n",
      " <tag>'긍정 리뷰입니다'</tag>\n"
     ]
    }
   ],
   "source": [
    "# 응답을 저장할 response 선언\n",
    "responses = []\n",
    "# formatted_prompts의 input에 대한 응답 받아오기 수행\n",
    "for prompt in formatted_prompts:\n",
    "    response = chat(prompt)\n",
    "    responses.append(response)\n",
    "\n",
    "# 결과 출력\n",
    "for response in responses:\n",
    "    print(response)"
   ]
  },
  {
   "cell_type": "markdown",
   "metadata": {},
   "source": [
    "## 성능 평가"
   ]
  },
  {
   "cell_type": "code",
   "execution_count": 38,
   "metadata": {},
   "outputs": [],
   "source": [
    "# 응답 결과값과 실제 값을 비교하기 위해 컬럼으로 저장\n",
    "df_sampled['tag'] = df_sampled['score'].apply(lambda x: '긍정' if int(x) >=3 else '부정')\n",
    "df_sampled['predict'] = responses"
   ]
  },
  {
   "cell_type": "code",
   "execution_count": 39,
   "metadata": {},
   "outputs": [
    {
     "data": {
      "text/html": [
       "<div>\n",
       "<style scoped>\n",
       "    .dataframe tbody tr th:only-of-type {\n",
       "        vertical-align: middle;\n",
       "    }\n",
       "\n",
       "    .dataframe tbody tr th {\n",
       "        vertical-align: top;\n",
       "    }\n",
       "\n",
       "    .dataframe thead th {\n",
       "        text-align: right;\n",
       "    }\n",
       "</style>\n",
       "<table border=\"1\" class=\"dataframe\">\n",
       "  <thead>\n",
       "    <tr style=\"text-align: right;\">\n",
       "      <th></th>\n",
       "      <th>score</th>\n",
       "      <th>review</th>\n",
       "      <th>tag</th>\n",
       "      <th>predict</th>\n",
       "    </tr>\n",
       "  </thead>\n",
       "  <tbody>\n",
       "    <tr>\n",
       "      <th>119737</th>\n",
       "      <td>2</td>\n",
       "      <td>마감이 안좋아요...실밥도 많고 바느질도 부족한 부분이 몇군데 있네요...교환받기 ...</td>\n",
       "      <td>부정</td>\n",
       "      <td>None</td>\n",
       "    </tr>\n",
       "    <tr>\n",
       "      <th>72272</th>\n",
       "      <td>5</td>\n",
       "      <td>깨끗하게 잘 다듬어져 있어요. 맛도좋고요.</td>\n",
       "      <td>긍정</td>\n",
       "      <td>긍정</td>\n",
       "    </tr>\n",
       "    <tr>\n",
       "      <th>158154</th>\n",
       "      <td>4</td>\n",
       "      <td>재구매 배송빨라요 길냥이들이 잘먹어요~~ 대용량이라 좋네요~</td>\n",
       "      <td>긍정</td>\n",
       "      <td>긍정</td>\n",
       "    </tr>\n",
       "    <tr>\n",
       "      <th>65426</th>\n",
       "      <td>5</td>\n",
       "      <td>제품도 빨리 배송해주시고 꼼꼼하게 잘챙겨주셨어요</td>\n",
       "      <td>긍정</td>\n",
       "      <td>긍정</td>\n",
       "    </tr>\n",
       "    <tr>\n",
       "      <th>30074</th>\n",
       "      <td>5</td>\n",
       "      <td>기타 남 멋지고 예뻐요 여러 사은품도 좋아요</td>\n",
       "      <td>긍정</td>\n",
       "      <td>긍정</td>\n",
       "    </tr>\n",
       "    <tr>\n",
       "      <th>23677</th>\n",
       "      <td>4</td>\n",
       "      <td>기존것보다 다리를 올려놓으면 푹빠지니깐 무서워서 안올라가요.ㅠㅠ 안고 올려놓으면 가...</td>\n",
       "      <td>긍정</td>\n",
       "      <td>긍정</td>\n",
       "    </tr>\n",
       "    <tr>\n",
       "      <th>134858</th>\n",
       "      <td>2</td>\n",
       "      <td>상품은잘받았습니다 요청한거와 손잡이방향은다르게왔지만 설치는 잘했습니다. 좀더 신경을...</td>\n",
       "      <td>부정</td>\n",
       "      <td>부정</td>\n",
       "    </tr>\n",
       "    <tr>\n",
       "      <th>176418</th>\n",
       "      <td>2</td>\n",
       "      <td>재구매 아기땜에 하루빨리 필요했는데 배송도 오래 걸렸는데 벨크로가 안왔어요 민원처리...</td>\n",
       "      <td>부정</td>\n",
       "      <td>부정</td>\n",
       "    </tr>\n",
       "    <tr>\n",
       "      <th>132467</th>\n",
       "      <td>5</td>\n",
       "      <td>좋네요. 사서 방전된 차에 점프 했는데 잘 됐습니다.</td>\n",
       "      <td>긍정</td>\n",
       "      <td>긍정</td>\n",
       "    </tr>\n",
       "    <tr>\n",
       "      <th>4082</th>\n",
       "      <td>4</td>\n",
       "      <td>저렴하게 잘샀어요ㅎ 쓰던거라 좋아요</td>\n",
       "      <td>긍정</td>\n",
       "      <td>긍정</td>\n",
       "    </tr>\n",
       "    <tr>\n",
       "      <th>74456</th>\n",
       "      <td>5</td>\n",
       "      <td>재구매 딱맞는 치수 빠른배송 만족합니다</td>\n",
       "      <td>긍정</td>\n",
       "      <td>긍정</td>\n",
       "    </tr>\n",
       "    <tr>\n",
       "      <th>142133</th>\n",
       "      <td>1</td>\n",
       "      <td>뚜꺼의 지름이 표시된것 보다 더 넓어서 냄비 밖으로 너무 나옵니다</td>\n",
       "      <td>부정</td>\n",
       "      <td>부정</td>\n",
       "    </tr>\n",
       "    <tr>\n",
       "      <th>186433</th>\n",
       "      <td>5</td>\n",
       "      <td>좋네요.타이트하고 운동할때굿</td>\n",
       "      <td>긍정</td>\n",
       "      <td>긍정</td>\n",
       "    </tr>\n",
       "    <tr>\n",
       "      <th>84660</th>\n",
       "      <td>1</td>\n",
       "      <td>옷이 괜찮으면 뭐합니까. 일하는 사람들이 별론데</td>\n",
       "      <td>부정</td>\n",
       "      <td>부정</td>\n",
       "    </tr>\n",
       "    <tr>\n",
       "      <th>117167</th>\n",
       "      <td>2</td>\n",
       "      <td>손을 문지르면 본드 찌꺼기 같은게 조금 남아요;;;</td>\n",
       "      <td>부정</td>\n",
       "      <td>부정</td>\n",
       "    </tr>\n",
       "    <tr>\n",
       "      <th>110852</th>\n",
       "      <td>1</td>\n",
       "      <td>배송은빠른데 조립하는것도불편하고 피스도 엄철짤고 좀 그래요</td>\n",
       "      <td>부정</td>\n",
       "      <td>부정</td>\n",
       "    </tr>\n",
       "    <tr>\n",
       "      <th>105000</th>\n",
       "      <td>4</td>\n",
       "      <td>재구매 여기서 몇번 구매했는데 항상 좋았어요</td>\n",
       "      <td>긍정</td>\n",
       "      <td>긍정</td>\n",
       "    </tr>\n",
       "    <tr>\n",
       "      <th>181463</th>\n",
       "      <td>5</td>\n",
       "      <td>러블리한 베개 배게커버 하나로 침실 분위기가 달라지네요ㅎㅎ워낙 커서 헤드쿠션으로 사...</td>\n",
       "      <td>긍정</td>\n",
       "      <td>긍정</td>\n",
       "    </tr>\n",
       "    <tr>\n",
       "      <th>9447</th>\n",
       "      <td>2</td>\n",
       "      <td>배송 당일 출고라 해놓고 본인들 바쁘다고 누락시켜서 거의 일주일 만에 받았어요</td>\n",
       "      <td>부정</td>\n",
       "      <td>부정</td>\n",
       "    </tr>\n",
       "    <tr>\n",
       "      <th>178531</th>\n",
       "      <td>5</td>\n",
       "      <td>사용하기 편리하고 깨끗합니다^^</td>\n",
       "      <td>긍정</td>\n",
       "      <td>긍정</td>\n",
       "    </tr>\n",
       "  </tbody>\n",
       "</table>\n",
       "</div>"
      ],
      "text/plain": [
       "       score                                             review tag predict\n",
       "119737     2  마감이 안좋아요...실밥도 많고 바느질도 부족한 부분이 몇군데 있네요...교환받기 ...  부정    None\n",
       "72272      5                            깨끗하게 잘 다듬어져 있어요. 맛도좋고요.  긍정      긍정\n",
       "158154     4                  재구매 배송빨라요 길냥이들이 잘먹어요~~ 대용량이라 좋네요~  긍정      긍정\n",
       "65426      5                         제품도 빨리 배송해주시고 꼼꼼하게 잘챙겨주셨어요  긍정      긍정\n",
       "30074      5                           기타 남 멋지고 예뻐요 여러 사은품도 좋아요  긍정      긍정\n",
       "23677      4  기존것보다 다리를 올려놓으면 푹빠지니깐 무서워서 안올라가요.ㅠㅠ 안고 올려놓으면 가...  긍정      긍정\n",
       "134858     2  상품은잘받았습니다 요청한거와 손잡이방향은다르게왔지만 설치는 잘했습니다. 좀더 신경을...  부정      부정\n",
       "176418     2  재구매 아기땜에 하루빨리 필요했는데 배송도 오래 걸렸는데 벨크로가 안왔어요 민원처리...  부정      부정\n",
       "132467     5                      좋네요. 사서 방전된 차에 점프 했는데 잘 됐습니다.  긍정      긍정\n",
       "4082       4                                저렴하게 잘샀어요ㅎ 쓰던거라 좋아요  긍정      긍정\n",
       "74456      5                              재구매 딱맞는 치수 빠른배송 만족합니다  긍정      긍정\n",
       "142133     1               뚜꺼의 지름이 표시된것 보다 더 넓어서 냄비 밖으로 너무 나옵니다  부정      부정\n",
       "186433     5                                    좋네요.타이트하고 운동할때굿  긍정      긍정\n",
       "84660      1                         옷이 괜찮으면 뭐합니까. 일하는 사람들이 별론데  부정      부정\n",
       "117167     2                       손을 문지르면 본드 찌꺼기 같은게 조금 남아요;;;  부정      부정\n",
       "110852     1                   배송은빠른데 조립하는것도불편하고 피스도 엄철짤고 좀 그래요  부정      부정\n",
       "105000     4                           재구매 여기서 몇번 구매했는데 항상 좋았어요  긍정      긍정\n",
       "181463     5  러블리한 베개 배게커버 하나로 침실 분위기가 달라지네요ㅎㅎ워낙 커서 헤드쿠션으로 사...  긍정      긍정\n",
       "9447       2        배송 당일 출고라 해놓고 본인들 바쁘다고 누락시켜서 거의 일주일 만에 받았어요  부정      부정\n",
       "178531     5                                  사용하기 편리하고 깨끗합니다^^  긍정      긍정"
      ]
     },
     "execution_count": 39,
     "metadata": {},
     "output_type": "execute_result"
    }
   ],
   "source": [
    "# '긍부정'만 추출하여 새로운 컬럼에 저장\n",
    "df_sampled['predict'] = df_sampled['predict'].apply(extract_negative)\n",
    "\n",
    "df_sampled"
   ]
  },
  {
   "cell_type": "code",
   "execution_count": 40,
   "metadata": {},
   "outputs": [
    {
     "name": "stdout",
     "output_type": "stream",
     "text": [
      "정확도: 95.00%\n"
     ]
    }
   ],
   "source": [
    "df_sampled['is_correct'] = df_sampled['predict'] == df_sampled['tag']\n",
    "# 정확도 계산\n",
    "accuracy = df_sampled['is_correct'].mean()\n",
    "# 결과 출력\n",
    "print(f\"정확도: {accuracy * 100:.2f}%\")"
   ]
  }
 ],
 "metadata": {
  "kernelspec": {
   "display_name": "Python 3",
   "language": "python",
   "name": "python3"
  },
  "language_info": {
   "codemirror_mode": {
    "name": "ipython",
    "version": 3
   },
   "file_extension": ".py",
   "mimetype": "text/x-python",
   "name": "python",
   "nbconvert_exporter": "python",
   "pygments_lexer": "ipython3",
   "version": "3.11.9"
  }
 },
 "nbformat": 4,
 "nbformat_minor": 2
}
