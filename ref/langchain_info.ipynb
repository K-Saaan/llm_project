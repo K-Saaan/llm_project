{
 "cells": [
  {
   "cell_type": "markdown",
   "metadata": {},
   "source": [
    "## LangChain Component"
   ]
  },
  {
   "cell_type": "markdown",
   "metadata": {},
   "source": [
    "### 1. 스키마"
   ]
  },
  {
   "cell_type": "markdown",
   "metadata": {},
   "source": [
    "- **텍스트**: 텍스트 인터페이스로 언어모델과 주로 상호작용."
   ]
  },
  {
   "cell_type": "code",
   "execution_count": null,
   "metadata": {},
   "outputs": [],
   "source": [
    "from langchain.schema import Text\n",
    "# \n",
    "text_input = Text(content=\"안녕 오늘 도움을 받을 수 있을까?\")"
   ]
  },
  {
   "cell_type": "markdown",
   "metadata": {},
   "source": [
    "- **채팅 메시지**: 시스템, 사용자, AI의 채팅 메시지."
   ]
  },
  {
   "cell_type": "code",
   "execution_count": null,
   "metadata": {},
   "outputs": [],
   "source": [
    "from langchain.schema import SystemChatMessage, HumanChatMessage, AIChatMessage\n",
    "\n",
    "system_message = SystemChatMessage(content=\"너는 내 도우미야\")\n",
    "user_message = HumanChatMessage(content=\"오늘 비가 올까?\")\n",
    "ai_message = AIChatMessage(content=\"오늘 오후에 비가 올 수 있으니 우산을 챙겨\")"
   ]
  },
  {
   "cell_type": "markdown",
   "metadata": {},
   "source": [
    "- **예시**: 모델 훈련 및 평가용 입력/출력 쌍."
   ]
  },
  {
   "cell_type": "code",
   "execution_count": null,
   "metadata": {},
   "outputs": [],
   "source": [
    "from langchain.schema import Example\n",
    "\n",
    "example = Example(input=\"안녕을 영어로 어떻게 말해?\", output=\"Hello\")"
   ]
  },
  {
   "cell_type": "markdown",
   "metadata": {},
   "source": [
    "- **문서**: 비구조화된 데이터 조각."
   ]
  },
  {
   "cell_type": "code",
   "execution_count": null,
   "metadata": {},
   "outputs": [],
   "source": [
    "from langchain.schema import Document\n",
    "\n",
    "document = Document(page_content=\"This is a sample document content.\", metadata={\"author\": \"John Doe\"})"
   ]
  },
  {
   "cell_type": "markdown",
   "metadata": {},
   "source": [
    "### 2. 모델"
   ]
  },
  {
   "cell_type": "markdown",
   "metadata": {},
   "source": [
    "- **대규모언어모델(LLMs)**"
   ]
  },
  {
   "cell_type": "code",
   "execution_count": null,
   "metadata": {},
   "outputs": [],
   "source": [
    "from langchain.llms import OpenAI\n",
    "\n",
    "llm = OpenAI(api_key=\"api-key\")\n",
    "# response =  괄호 안의 텍스트에 대한 응답\n",
    "response = llm.predict(\"이 문제 푸는 방법 알려줘\")"
   ]
  },
  {
   "cell_type": "markdown",
   "metadata": {},
   "source": [
    "- **채팅 모델**: 채팅 형식의 모델."
   ]
  },
  {
   "cell_type": "code",
   "execution_count": null,
   "metadata": {},
   "outputs": [],
   "source": [
    "from langchain.chat_models import ChatOpenAI\n",
    "\n",
    "# 모델 선언\n",
    "chat_model = ChatOpenAI(model=\"gpt-3.5-turbo\", temporature=0)\n",
    "# user_message에 대한 응답\n",
    "chat_response = chat_model.chat([user_message])"
   ]
  },
  {
   "cell_type": "markdown",
   "metadata": {},
   "source": [
    "- **텍스트 임베딩 모델**: 텍스트를 임베딩(벡터)로 변환하는 모델."
   ]
  },
  {
   "cell_type": "code",
   "execution_count": null,
   "metadata": {},
   "outputs": [],
   "source": [
    "from langchain.embeddings import OpenAIEmbeddings\n",
    "# 임베딩 수행할 모델 선언\n",
    "embeddings_model = OpenAIEmbeddings()\n",
    "# 입력한 텍스트를 임베딩\n",
    "embeddings = embeddings_model.embed_text(\"Sample text to embed\")"
   ]
  },
  {
   "cell_type": "markdown",
   "metadata": {},
   "source": [
    "### 3. 프롬프트"
   ]
  },
  {
   "cell_type": "markdown",
   "metadata": {},
   "source": [
    "- **프롬프트 값(PromptValue)**: 모델에 입력되는 값."
   ]
  },
  {
   "cell_type": "code",
   "execution_count": null,
   "metadata": {},
   "outputs": [],
   "source": [
    "from langchain.prompts import PromptValue\n",
    "# prompt_value 선언\n",
    "prompt_value = PromptValue(text=\"AI에 대해 설명해줘\")"
   ]
  },
  {
   "cell_type": "markdown",
   "metadata": {},
   "source": [
    "- **프롬프트 템플릿**: 다양한 입력 구성을 지원하는 템플릿."
   ]
  },
  {
   "cell_type": "code",
   "execution_count": null,
   "metadata": {},
   "outputs": [],
   "source": [
    "from langchain.prompts import PromptTemplate\n",
    "\n",
    "template = PromptTemplate(input_variables=[\"location\"], template=\"What is the weather like in {location}?\")\n",
    "prompt = template.format(location=\"서울\")"
   ]
  },
  {
   "cell_type": "markdown",
   "metadata": {},
   "source": [
    "- **출력 파서**: 모델 출력 형식을 지정하고 파싱."
   ]
  },
  {
   "cell_type": "code",
   "execution_count": null,
   "metadata": {},
   "outputs": [],
   "source": [
    "from langchain.output_parsers import OutputParser\n",
    "\n",
    "class SimpleOutputParser(OutputParser):\n",
    "    # 응답을 받아서 양쪽 공백을 제거하고 반환\n",
    "    def parse(self, response: str):\n",
    "        return response.strip()\n",
    "\n",
    "parser = SimpleOutputParser()\n",
    "#  parse에서 지정한 형식으로 반환\n",
    "parsed_output = parser.parse(\"  응닶 내용입니다.  \")"
   ]
  },
  {
   "cell_type": "markdown",
   "metadata": {},
   "source": [
    "### 4. 인덱스"
   ]
  },
  {
   "cell_type": "markdown",
   "metadata": {},
   "source": [
    "- **문서 로더**: 다양한 파일 형식을 텍스트 데이터로 변환."
   ]
  },
  {
   "cell_type": "code",
   "execution_count": null,
   "metadata": {},
   "outputs": [],
   "source": [
    "from langchain.document_loaders import UnstructuredFileLoader\n",
    "\n",
    "loader = UnstructuredFileLoader(file_path=\"sample.pdf\")\n",
    "documents = loader.load()"
   ]
  },
  {
   "cell_type": "markdown",
   "metadata": {},
   "source": [
    "- **텍스트 분할기**: 긴 텍스트를 여러 조각으로 나눔."
   ]
  },
  {
   "cell_type": "code",
   "execution_count": null,
   "metadata": {},
   "outputs": [],
   "source": [
    "from langchain.text_splitter import CharacterTextSplitter\n",
    "\n",
    "# chunk_size(각 조각의 최대 크기 여기서는 100 문자) 크기로 텍스트를 나눈다\n",
    "splitter = CharacterTextSplitter(chunk_size=100)\n",
    "chunks = splitter.split(\"긴 문장을 문단으로 나눠줘\")"
   ]
  },
  {
   "cell_type": "markdown",
   "metadata": {},
   "source": [
    "- **벡터 저장소**: 임베딩된 벡터를 저장하고 검색."
   ]
  },
  {
   "cell_type": "code",
   "execution_count": null,
   "metadata": {},
   "outputs": [],
   "source": [
    "from langchain.vectorstores import FAISS\n",
    "# FAISS(Facebook AI Research에서 개발한 라이브러리)를 사용해서 벡터 저장소 생성\n",
    "vector_store = FAISS()\n",
    "vector_store.add_texts([\"This is a sample document.\", \"Another document for testing.\"])"
   ]
  },
  {
   "cell_type": "markdown",
   "metadata": {},
   "source": [
    "- **검색기**: 쿼리를 입력으로 받아 관련 문서 반환."
   ]
  },
  {
   "cell_type": "code",
   "execution_count": null,
   "metadata": {},
   "outputs": [],
   "source": [
    "from langchain.retrievers import SimpleRetriever\n",
    "\n",
    "retriever = SimpleRetriever(vector_store=vector_store)\n",
    "results = retriever.retrieve(\"query\")"
   ]
  },
  {
   "cell_type": "markdown",
   "metadata": {},
   "source": [
    "### 5. 체인"
   ]
  },
  {
   "cell_type": "markdown",
   "metadata": {},
   "source": [
    "- **체인(Chain)**: 여러 구성 요소를 결합하여 특정 목적 수행."
   ]
  },
  {
   "cell_type": "code",
   "execution_count": null,
   "metadata": {},
   "outputs": [],
   "source": [
    "from langchain.chains import SimpleChain\n",
    "\n",
    "chain = SimpleChain(prompt_template=template, model=llm, output_parser=parser)\n",
    "result = chain.run(input_variables={\"location\": \"Seoul\"})"
   ]
  },
  {
   "cell_type": "markdown",
   "metadata": {},
   "source": [
    "- **LLM 체인**: 프롬프트 템플릿과 모델을 조합해 사용."
   ]
  },
  {
   "cell_type": "code",
   "execution_count": null,
   "metadata": {},
   "outputs": [],
   "source": [
    "from langchain.chains import LLMChain\n",
    "\n",
    "llm_chain = LLMChain(prompt_template=template, model=llm)\n",
    "response = llm_chain.run({\"location\": \"Seoul\"})"
   ]
  },
  {
   "cell_type": "markdown",
   "metadata": {},
   "source": [
    "- **인덱스 연관 체인**: 문서와 상호작용하여 질문에 답변."
   ]
  },
  {
   "cell_type": "code",
   "execution_count": null,
   "metadata": {},
   "outputs": [],
   "source": [
    "from langchain.chains import IndexRelatedChain\n",
    "\n",
    "index_chain = IndexRelatedChain(index=vector_store, model=llm)\n",
    "answer = index_chain.run(query=\"이 내용이 의미하는게 뭐야?\")"
   ]
  },
  {
   "cell_type": "markdown",
   "metadata": {},
   "source": [
    "### 6. 메모리"
   ]
  },
  {
   "cell_type": "markdown",
   "metadata": {},
   "source": [
    "- **채팅 메시지 히스토리**: 이전 채팅 상호작용을 기억."
   ]
  },
  {
   "cell_type": "code",
   "execution_count": null,
   "metadata": {},
   "outputs": [],
   "source": [
    "from langchain.memory import ChatMessageHistory\n",
    "# 대화 기록을 관리\n",
    "history = ChatMessageHistory()\n",
    "history.add_message(user_message)\n",
    "history.add_message(ai_message)"
   ]
  },
  {
   "cell_type": "markdown",
   "metadata": {},
   "source": [
    "- **장기 및 단기 메모리**: 대화 데이터 저장 및 검색."
   ]
  },
  {
   "cell_type": "code",
   "execution_count": null,
   "metadata": {},
   "outputs": [],
   "source": [
    "from langchain.memory import LongTermMemory, ShortTermMemory\n",
    "\n",
    "long_term_memory = LongTermMemory()\n",
    "short_term_memory = ShortTermMemory()\n",
    "\n",
    "long_term_memory.add(\"날씨에 대해 물어봤지\")\n",
    "short_term_memory.add(\"Assistant replied 비가온다고 답했다\")"
   ]
  },
  {
   "cell_type": "markdown",
   "metadata": {},
   "source": [
    "### 7. 에이전트"
   ]
  },
  {
   "cell_type": "markdown",
   "metadata": {},
   "source": [
    "- **도구(Tools)**: 언어 모델이 리소스와 상호작용."
   ]
  },
  {
   "cell_type": "code",
   "execution_count": null,
   "metadata": {},
   "outputs": [],
   "source": [
    "from langchain.tools import WebSearchTool\n",
    "\n",
    "web_search_tool = WebSearchTool(api_key=\"api-key\")\n",
    "search_results = web_search_tool.query(\"어제 날씨에 대해 알려줘\")"
   ]
  },
  {
   "cell_type": "markdown",
   "metadata": {},
   "source": [
    "- **툴킷(Toolkits)**: 특정 작업을 수행하는 도구 세트."
   ]
  },
  {
   "cell_type": "code",
   "execution_count": null,
   "metadata": {},
   "outputs": [],
   "source": [
    "from langchain.toolkits import DataAnalysisToolkit\n",
    "\n",
    "toolkit = DataAnalysisToolkit(tools=[web_search_tool])\n",
    "analysis_results = toolkit.analyze(\"Analyze data trends in AI research.\")"
   ]
  },
  {
   "cell_type": "markdown",
   "metadata": {},
   "source": [
    "- **에이전트(Agents)**: 사용자 입력을 받아 액션을 수행."
   ]
  },
  {
   "cell_type": "code",
   "execution_count": null,
   "metadata": {},
   "outputs": [],
   "source": [
    "from langchain.agents import BasicAgent\n",
    "\n",
    "agent = BasicAgent(model=llm, tools=[web_search_tool])\n",
    "agent_response = agent.handle_input(\"머신러닝에 대한 최신 논문을 찾아줘\")"
   ]
  }
 ],
 "metadata": {
  "language_info": {
   "name": "python"
  }
 },
 "nbformat": 4,
 "nbformat_minor": 2
}
